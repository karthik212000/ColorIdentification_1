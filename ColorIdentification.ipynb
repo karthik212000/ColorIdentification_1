{
  "nbformat": 4,
  "nbformat_minor": 0,
  "metadata": {
    "colab": {
      "name": "ColorIdentification.ipynb",
      "provenance": [],
      "collapsed_sections": []
    },
    "kernelspec": {
      "name": "python3",
      "display_name": "Python 3"
    },
    "language_info": {
      "name": "python"
    }
  },
  "cells": [
    {
      "cell_type": "markdown",
      "metadata": {
        "id": "6O1jDZgcK0xF"
      },
      "source": [
        "Import files\n"
      ]
    },
    {
      "cell_type": "code",
      "metadata": {
        "id": "JNdFWcFcK4GA"
      },
      "source": [
        "import cv2\n",
        "from sklearn.cluster import KMeans\n",
        "from collections import Counter\n",
        "import matplotlib.pyplot as plt"
      ],
      "execution_count": 1,
      "outputs": []
    },
    {
      "cell_type": "code",
      "metadata": {
        "id": "yO0cq6GkKz50"
      },
      "source": [
        "def get_image(image_path):\n",
        "    image = cv2.imread(image_path)\n",
        "    image = cv2.cvtColor(image, cv2.COLOR_BGR2RGB)\n",
        "    return image"
      ],
      "execution_count": 2,
      "outputs": []
    },
    {
      "cell_type": "code",
      "metadata": {
        "id": "GdNUiLEkLqa7"
      },
      "source": [
        "\n",
        "def convert(color):\n",
        "    return \"#{:02x}{:02x}{:02x}\".format(int(color[0]), int(color[1]), int(color[2]))"
      ],
      "execution_count": 3,
      "outputs": []
    },
    {
      "cell_type": "code",
      "metadata": {
        "id": "L1AxsgVmLyrk"
      },
      "source": [
        "def get_colours (image,color_num):\n",
        "    img = cv2.resize(image, (600, 400))\n",
        "    img = img.reshape(img.shape[0] * img.shape[1], 3)\n",
        "    cluster = KMeans(n_clusters = color_num)\n",
        "    labels = cluster.fit_predict(img)\n",
        "    ct = Counter(labels)\n",
        "    center = cluster.cluster_centers_\n",
        "    order = [center[i] for i in ct.keys()]\n",
        "    hex_color = [convert(order[i]) for i in ct.keys()]\n",
        "    for color in hex_color:\n",
        "        print(f\"[+] {color}\")\n",
        "    chart = input(\"\\n[?] Do you want to plot a PIE Chart for it? [y/n] \")\n",
        "    if chart.lower() == \"y\":\n",
        "        plt.figure(figsize = (8, 6))\n",
        "        plt.pie(ct.values(), labels = hex_color, colors = hex_color)\n",
        "        plt.show()"
      ],
      "execution_count": 4,
      "outputs": []
    },
    {
      "cell_type": "code",
      "metadata": {
        "colab": {
          "base_uri": "https://localhost:8080/"
        },
        "id": "1wOGmpqXL5tu",
        "outputId": "29a47548-4a3e-4abe-9a13-ee93b43b4c10"
      },
      "source": [
        "print(\"Welcome to the color detection program!\\n\")\n",
        "path = input(\"[?] Enter the path of the Image: \")\n",
        "color_num = int(input(\"[?] Enter the number of colors to be displayed: \"))\n",
        "print()\n",
        "\n"
      ],
      "execution_count": 17,
      "outputs": [
        {
          "output_type": "stream",
          "text": [
            "Welcome to the color detection program!\n",
            "\n",
            "[?] Enter the path of the Image: /content/imaging2.png\n",
            "[?] Enter the number of colors to be displayed: 12\n",
            "\n"
          ],
          "name": "stdout"
        }
      ]
    },
    {
      "cell_type": "markdown",
      "metadata": {
        "id": "Ddm_O6fYNlmx"
      },
      "source": [
        "It Shows the number of present in pie chart\n"
      ]
    },
    {
      "cell_type": "code",
      "metadata": {
        "colab": {
          "base_uri": "https://localhost:8080/",
          "height": 595
        },
        "id": "fFVbUkacMOBD",
        "outputId": "d47ff1f8-a307-45b8-9889-14301400fa4b"
      },
      "source": [
        "try:\n",
        "    image = cv2.imread(path)\n",
        "    image = cv2.cvtColor(image, cv2.COLOR_BGR2RGB)\n",
        "    img = get_image(path)\n",
        "    get_colours(img, color_num)\n",
        "\n",
        "except:\n",
        "        print(f\"Error! Please enter a valid path or try entering an image which has {color_num} colors.\")\n",
        "        exit()"
      ],
      "execution_count": 18,
      "outputs": [
        {
          "output_type": "stream",
          "text": [
            "[+] #fefefe\n",
            "[+] #414141\n",
            "[+] #7f75f7\n",
            "[+] #84c6fb\n",
            "[+] #6d9ffa\n",
            "[+] #eda0cb\n",
            "[+] #f5c496\n",
            "[+] #d373f6\n",
            "[+] #a3a4fa\n",
            "[+] #8d8d8d\n",
            "[+] #53ccfa\n",
            "[+] #af7ef8\n",
            "\n",
            "[?] Do you want to plot a PIE Chart for it? [y/n] y\n"
          ],
          "name": "stdout"
        },
        {
          "output_type": "display_data",
          "data": {
            "image/png": "[encoded data removed]",
            "text/plain": [
              "<Figure size 576x432 with 1 Axes>"
            ]
          },
          "metadata": {
            "tags": []
          }
        }
      ]
    },
    {
      "cell_type": "code",
      "metadata": {
        "id": "grBRW2m2Mhf9"
      },
      "source": [
        "from google.colab.patches import cv2_imshow"
      ],
      "execution_count": 10,
      "outputs": []
    },
    {
      "cell_type": "code",
      "metadata": {
        "colab": {
          "base_uri": "https://localhost:8080/",
          "height": 282
        },
        "id": "gpADqC2LMWBv",
        "outputId": "baa257ac-4ab4-4279-ecb3-0ea372d4f3aa"
      },
      "source": [
        "cv2_imshow(path)"
      ],
      "execution_count": 12,
      "outputs": [
        {
          "output_type": "error",
          "ename": "AttributeError",
          "evalue": "ignored",
          "traceback": [
            "\u001b[0;31m---------------------------------------------------------------------------\u001b[0m",
            "\u001b[0;31mAttributeError\u001b[0m                            Traceback (most recent call last)",
            "\u001b[0;32m<ipython-input-12-9bb54d4d3376>\u001b[0m in \u001b[0;36m<module>\u001b[0;34m()\u001b[0m\n\u001b[0;32m----> 1\u001b[0;31m \u001b[0mcv2_imshow\u001b[0m\u001b[0;34m(\u001b[0m\u001b[0mpath\u001b[0m\u001b[0;34m)\u001b[0m\u001b[0;34m\u001b[0m\u001b[0;34m\u001b[0m\u001b[0m\n\u001b[0m",
            "\u001b[0;32m/usr/local/lib/python3.7/dist-packages/google/colab/patches/__init__.py\u001b[0m in \u001b[0;36mcv2_imshow\u001b[0;34m(a)\u001b[0m\n\u001b[1;32m     20\u001b[0m       \u001b[0mimage\u001b[0m\u001b[0;34m.\u001b[0m\u001b[0;34m\u001b[0m\u001b[0;34m\u001b[0m\u001b[0m\n\u001b[1;32m     21\u001b[0m   \"\"\"\n\u001b[0;32m---> 22\u001b[0;31m   \u001b[0ma\u001b[0m \u001b[0;34m=\u001b[0m \u001b[0ma\u001b[0m\u001b[0;34m.\u001b[0m\u001b[0mclip\u001b[0m\u001b[0;34m(\u001b[0m\u001b[0;36m0\u001b[0m\u001b[0;34m,\u001b[0m \u001b[0;36m255\u001b[0m\u001b[0;34m)\u001b[0m\u001b[0;34m.\u001b[0m\u001b[0mastype\u001b[0m\u001b[0;34m(\u001b[0m\u001b[0;34m'uint8'\u001b[0m\u001b[0;34m)\u001b[0m\u001b[0;34m\u001b[0m\u001b[0;34m\u001b[0m\u001b[0m\n\u001b[0m\u001b[1;32m     23\u001b[0m   \u001b[0;31m# cv2 stores colors as BGR; convert to RGB\u001b[0m\u001b[0;34m\u001b[0m\u001b[0;34m\u001b[0m\u001b[0;34m\u001b[0m\u001b[0m\n\u001b[1;32m     24\u001b[0m   \u001b[0;32mif\u001b[0m \u001b[0ma\u001b[0m\u001b[0;34m.\u001b[0m\u001b[0mndim\u001b[0m \u001b[0;34m==\u001b[0m \u001b[0;36m3\u001b[0m\u001b[0;34m:\u001b[0m\u001b[0;34m\u001b[0m\u001b[0;34m\u001b[0m\u001b[0m\n",
            "\u001b[0;31mAttributeError\u001b[0m: 'str' object has no attribute 'clip'"
          ]
        }
      ]
    }
  ]
}